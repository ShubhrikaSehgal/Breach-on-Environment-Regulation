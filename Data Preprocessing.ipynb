{
 "cells": [
  {
   "cell_type": "markdown",
   "metadata": {},
   "source": [
    "# 2019 Compliance Classification Scheme Dataset"
   ]
  },
  {
   "cell_type": "markdown",
   "metadata": {},
   "source": [
    "https://environment.data.gov.uk/portalstg/home/item.html?id=25deda410a644aa6aae773ff7a0583d4"
   ]
  },
  {
   "cell_type": "markdown",
   "metadata": {},
   "source": [
    "This dataset contain details of condition breaches on Environmental Permitting Regulations waste operations and installation permits for 2019."
   ]
  },
  {
   "cell_type": "code",
   "execution_count": 3,
   "metadata": {},
   "outputs": [],
   "source": [
    "## import all the library or packages used \n",
    "import pandas as pd"
   ]
  },
  {
   "cell_type": "code",
   "execution_count": 16,
   "metadata": {},
   "outputs": [],
   "source": [
    "## read the data from the excel\n",
    "df=pd.read_excel(r\"C:\\Users\\16303\\Documents\\Projects\\Breach-on-Environment-Regulation\\2019_Compliance_Classification_Scheme\\2019 Compliance classification dataset.xlsx\",header=9)"
   ]
  },
  {
   "cell_type": "code",
   "execution_count": 18,
   "metadata": {},
   "outputs": [
    {
     "data": {
      "text/html": [
       "<div>\n",
       "<style scoped>\n",
       "    .dataframe tbody tr th:only-of-type {\n",
       "        vertical-align: middle;\n",
       "    }\n",
       "\n",
       "    .dataframe tbody tr th {\n",
       "        vertical-align: top;\n",
       "    }\n",
       "\n",
       "    .dataframe thead th {\n",
       "        text-align: right;\n",
       "    }\n",
       "</style>\n",
       "<table border=\"1\" class=\"dataframe\">\n",
       "  <thead>\n",
       "    <tr style=\"text-align: right;\">\n",
       "      <th></th>\n",
       "      <th>Permit reference</th>\n",
       "      <th>Operator</th>\n",
       "      <th>Site name</th>\n",
       "      <th>Site address</th>\n",
       "      <th>Regulatory regime</th>\n",
       "      <th>Regulatory Sector</th>\n",
       "      <th>EA area</th>\n",
       "      <th>Permit condition breached</th>\n",
       "      <th>Description of non-compliance</th>\n",
       "      <th>Breach categorisation</th>\n",
       "      <th>Date of breach</th>\n",
       "    </tr>\n",
       "  </thead>\n",
       "  <tbody>\n",
       "    <tr>\n",
       "      <th>0</th>\n",
       "      <td>10004</td>\n",
       "      <td>Medway Norse Limited</td>\n",
       "      <td>Cuxton H W R C</td>\n",
       "      <td>Sundridge Hill, Cuxton, Strood, Kent, ME2 1LF</td>\n",
       "      <td>Waste Operation</td>\n",
       "      <td>Waste Treatment</td>\n",
       "      <td>Kent and South London</td>\n",
       "      <td>7.2.2</td>\n",
       "      <td>g) Monitoring and records, maintenance and rep...</td>\n",
       "      <td>4</td>\n",
       "      <td>2019-05-01 00:00:00</td>\n",
       "    </tr>\n",
       "    <tr>\n",
       "      <th>1</th>\n",
       "      <td>10004</td>\n",
       "      <td>Medway Norse Limited</td>\n",
       "      <td>Cuxton H W R C</td>\n",
       "      <td>Sundridge Hill, Cuxton, Strood, Kent, ME2 1LF</td>\n",
       "      <td>Waste Operation</td>\n",
       "      <td>Waste Treatment</td>\n",
       "      <td>Kent and South London</td>\n",
       "      <td>MSA</td>\n",
       "      <td>c) General Management</td>\n",
       "      <td>3</td>\n",
       "      <td>2019-11-20 10:33:00</td>\n",
       "    </tr>\n",
       "    <tr>\n",
       "      <th>2</th>\n",
       "      <td>10009</td>\n",
       "      <td>London And Continental Railways Ltd</td>\n",
       "      <td>Marley Landfill Facility</td>\n",
       "      <td>Marley Landfill Facility, Sandway Road, Harrie...</td>\n",
       "      <td>Waste Operation</td>\n",
       "      <td>Landfill</td>\n",
       "      <td>Kent and South London</td>\n",
       "      <td>2.7.1</td>\n",
       "      <td>b) Infrastructure</td>\n",
       "      <td>3</td>\n",
       "      <td>2019-12-31 00:00:00</td>\n",
       "    </tr>\n",
       "    <tr>\n",
       "      <th>3</th>\n",
       "      <td>10009</td>\n",
       "      <td>London And Continental Railways Ltd</td>\n",
       "      <td>Marley Landfill Facility</td>\n",
       "      <td>Marley Landfill Facility, Sandway Road, Harrie...</td>\n",
       "      <td>Waste Operation</td>\n",
       "      <td>Landfill</td>\n",
       "      <td>Kent and South London</td>\n",
       "      <td>3.2.3</td>\n",
       "      <td>e) Emissions</td>\n",
       "      <td>3</td>\n",
       "      <td>2019-12-31 00:00:00</td>\n",
       "    </tr>\n",
       "    <tr>\n",
       "      <th>4</th>\n",
       "      <td>10009</td>\n",
       "      <td>London And Continental Railways Ltd</td>\n",
       "      <td>Marley Landfill Facility</td>\n",
       "      <td>Marley Landfill Facility, Sandway Road, Harrie...</td>\n",
       "      <td>Waste Operation</td>\n",
       "      <td>Landfill</td>\n",
       "      <td>Kent and South London</td>\n",
       "      <td>3.1</td>\n",
       "      <td>e) Emissions</td>\n",
       "      <td>4</td>\n",
       "      <td>2019-12-31 00:00:00</td>\n",
       "    </tr>\n",
       "  </tbody>\n",
       "</table>\n",
       "</div>"
      ],
      "text/plain": [
       "  Permit reference                             Operator  \\\n",
       "0            10004                 Medway Norse Limited   \n",
       "1            10004                 Medway Norse Limited   \n",
       "2            10009  London And Continental Railways Ltd   \n",
       "3            10009  London And Continental Railways Ltd   \n",
       "4            10009  London And Continental Railways Ltd   \n",
       "\n",
       "                  Site name  \\\n",
       "0            Cuxton H W R C   \n",
       "1            Cuxton H W R C   \n",
       "2  Marley Landfill Facility   \n",
       "3  Marley Landfill Facility   \n",
       "4  Marley Landfill Facility   \n",
       "\n",
       "                                        Site address Regulatory regime  \\\n",
       "0      Sundridge Hill, Cuxton, Strood, Kent, ME2 1LF   Waste Operation   \n",
       "1      Sundridge Hill, Cuxton, Strood, Kent, ME2 1LF   Waste Operation   \n",
       "2  Marley Landfill Facility, Sandway Road, Harrie...   Waste Operation   \n",
       "3  Marley Landfill Facility, Sandway Road, Harrie...   Waste Operation   \n",
       "4  Marley Landfill Facility, Sandway Road, Harrie...   Waste Operation   \n",
       "\n",
       "  Regulatory Sector                EA area Permit condition breached  \\\n",
       "0   Waste Treatment  Kent and South London                     7.2.2   \n",
       "1   Waste Treatment  Kent and South London                       MSA   \n",
       "2          Landfill  Kent and South London                     2.7.1   \n",
       "3          Landfill  Kent and South London                     3.2.3   \n",
       "4          Landfill  Kent and South London                       3.1   \n",
       "\n",
       "                       Description of non-compliance  Breach categorisation  \\\n",
       "0  g) Monitoring and records, maintenance and rep...                      4   \n",
       "1                              c) General Management                      3   \n",
       "2                                  b) Infrastructure                      3   \n",
       "3                                       e) Emissions                      3   \n",
       "4                                       e) Emissions                      4   \n",
       "\n",
       "       Date of breach  \n",
       "0 2019-05-01 00:00:00  \n",
       "1 2019-11-20 10:33:00  \n",
       "2 2019-12-31 00:00:00  \n",
       "3 2019-12-31 00:00:00  \n",
       "4 2019-12-31 00:00:00  "
      ]
     },
     "execution_count": 18,
     "metadata": {},
     "output_type": "execute_result"
    }
   ],
   "source": [
    "## check the head for the cont\n",
    "df.head()"
   ]
  },
  {
   "cell_type": "code",
   "execution_count": null,
   "metadata": {},
   "outputs": [],
   "source": []
  }
 ],
 "metadata": {
  "kernelspec": {
   "display_name": "Python 3",
   "language": "python",
   "name": "python3"
  },
  "language_info": {
   "codemirror_mode": {
    "name": "ipython",
    "version": 3
   },
   "file_extension": ".py",
   "mimetype": "text/x-python",
   "name": "python",
   "nbconvert_exporter": "python",
   "pygments_lexer": "ipython3",
   "version": "3.7.3"
  }
 },
 "nbformat": 4,
 "nbformat_minor": 2
}
